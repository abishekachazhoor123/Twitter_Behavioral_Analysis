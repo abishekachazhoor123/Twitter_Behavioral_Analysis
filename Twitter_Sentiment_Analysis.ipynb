{
 "cells": [
  {
   "cell_type": "code",
   "execution_count": null,
   "metadata": {},
   "outputs": [],
   "source": [
    "punctuation_chars = [\"'\", '\"', \",\", \".\", \"!\", \":\", \";\", '#', '@']\n",
    "negative_words=[]\n",
    "with open(\"negative_words.txt\") as pos_f:\n",
    "    for lin in pos_f:\n",
    "        if lin[0] !=\";\" and lin[0] != \"\\n\":\n",
    "            negative_words.append(lin.strip())\n",
    "positive_words=[]\n",
    "with open(\"positive_words.txt\") as neg_f:\n",
    "    for lin in neg_f:\n",
    "        if lin[0] !=\";\" and lin[0]!=\"\\n\":\n",
    "            positive_words.append(lin.strip())\n",
    "            \n",
    "def strip_punctuation(x):\n",
    "    for i in punctuation_chars:\n",
    "        x=x.replace(i, \"\")\n",
    "    return x\n",
    "#count of neg and positive words\n",
    "def neg_count(x):\n",
    "    count=0\n",
    "    x=strip_punctuation(x)\n",
    "    y=x.lower().split()\n",
    "    for _ in y:\n",
    "        if _ in negative_words:\n",
    "            count+=1\n",
    "    return count\n",
    "def pos_count(x):\n",
    "    count=0\n",
    "    x=strip_punctuation(x)\n",
    "    y=x.lower().split()\n",
    "    for _ in y:\n",
    "        if _ in positive_words:\n",
    "            count+=1\n",
    "    return count\n",
    "#opening file both given and to be fed\n",
    "output=open(\"resultdata.csv\",\"w\")\n",
    "#writing header and attributes as we iterate over elements  and find the count and the below.\n",
    "output.write(\"Number of Retweets, Number of Replies, Positive Score , Negative Score , Net Score\")\n",
    "output.write(\"\\n\")\n",
    "input_twt=open(\"project_twitter_data.csv\",\"r\")\n",
    "print(input_twt.readlines())\n",
    "skpTitle=input_twt.readlines()[1:]\n",
    "for line in skpTitle:\n",
    "    words=line.strip().split(\",\")\n",
    "    output.write(\"{},{},{},{},{}\".format(words[1],words[2],pos_count(words[0]),neg_count(words[0]),pos_count(words[0]) - neg_count(words[0])))\n",
    "    output.write(\"\\n\")\n",
    "    \n",
    "output2=open(\"resultdata.csv\",\"r\")\n",
    "print(output2.readlines())\n",
    "output.close()\n",
    "input_twt.close()"
   ]
  }
 ],
 "metadata": {
  "kernelspec": {
   "display_name": "Python 3",
   "language": "python",
   "name": "python3"
  },
  "language_info": {
   "codemirror_mode": {
    "name": "ipython",
    "version": 3
   },
   "file_extension": ".py",
   "mimetype": "text/x-python",
   "name": "python",
   "nbconvert_exporter": "python",
   "pygments_lexer": "ipython3",
   "version": "3.8.5"
  }
 },
 "nbformat": 4,
 "nbformat_minor": 4
}
